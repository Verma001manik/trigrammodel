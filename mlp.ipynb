{
 "cells": [
  {
   "cell_type": "code",
   "execution_count": 31,
   "id": "e4eddac7",
   "metadata": {},
   "outputs": [],
   "source": [
    "import torch\n",
    "import torch.nn.functional as F\n",
    "import matplotlib.pyplot as plt # for making figures\n",
    "%matplotlib inline\n"
   ]
  },
  {
   "cell_type": "code",
   "execution_count": 68,
   "id": "6d277d94",
   "metadata": {},
   "outputs": [
    {
     "data": {
      "text/plain": [
       "['SUSHIL',\n",
       " 'SRIKRISHNA',\n",
       " 'SANTOSH',\n",
       " 'VIGNESH',\n",
       " 'RAMYA',\n",
       " 'CHARAN',\n",
       " 'VINNY',\n",
       " 'USHA',\n",
       " 'SURYA ',\n",
       " 'MEGHANA',\n",
       " 'JAHNAVI',\n",
       " 'NITHYASHREE',\n",
       " 'KAUSHIK',\n",
       " 'MAHESHWAR',\n",
       " 'PREETHI',\n",
       " 'SHASHIKANTH',\n",
       " 'REETEKA',\n",
       " 'JAHNAVI',\n",
       " 'SUDHEER',\n",
       " 'JAYANTH',\n",
       " 'SAIMOULI',\n",
       " 'ANURAG',\n",
       " 'REVATHI',\n",
       " 'UDAY',\n",
       " 'HARSHITHA',\n",
       " 'SRUTHI ',\n",
       " 'MANIK',\n",
       " 'AMRIT',\n",
       " 'SAMAD',\n",
       " 'FAHD ',\n",
       " 'VISHNUPRIYA',\n",
       " 'SUSHANK',\n",
       " 'VARSHINI',\n",
       " 'KARTHIKEYA',\n",
       " 'LEKHYA',\n",
       " 'SIDHANTH',\n",
       " 'VARDHAN',\n",
       " 'VAMSI',\n",
       " 'ESHWAR',\n",
       " 'RISHITHA',\n",
       " 'OUCHITHYA',\n",
       " 'SATHVIK',\n",
       " 'PRASHANTI',\n",
       " 'RAKESH ',\n",
       " 'KARTHIKEYA',\n",
       " 'SALMAN',\n",
       " 'NITESH',\n",
       " 'DHEERAJ',\n",
       " 'AADARSH',\n",
       " 'SNIGDHA',\n",
       " 'SAHITHI',\n",
       " 'SANTOSHI',\n",
       " 'KRISHNA ',\n",
       " 'RAHUL',\n",
       " 'ZOYA']"
      ]
     },
     "execution_count": 68,
     "metadata": {},
     "output_type": "execute_result"
    }
   ],
   "source": [
    "words = open('newnames.txt', 'r').read().splitlines()\n",
    "words"
   ]
  },
  {
   "cell_type": "code",
   "execution_count": 69,
   "id": "9068f03d",
   "metadata": {
    "scrolled": true
   },
   "outputs": [
    {
     "data": {
      "text/plain": [
       "[' ',\n",
       " 'A',\n",
       " 'C',\n",
       " 'D',\n",
       " 'E',\n",
       " 'F',\n",
       " 'G',\n",
       " 'H',\n",
       " 'I',\n",
       " 'J',\n",
       " 'K',\n",
       " 'L',\n",
       " 'M',\n",
       " 'N',\n",
       " 'O',\n",
       " 'P',\n",
       " 'R',\n",
       " 'S',\n",
       " 'T',\n",
       " 'U',\n",
       " 'V',\n",
       " 'W',\n",
       " 'Y',\n",
       " 'Z']"
      ]
     },
     "execution_count": 69,
     "metadata": {},
     "output_type": "execute_result"
    }
   ],
   "source": [
    "chars = sorted(list(set(''.join(words))))\n",
    "# chars = [char for char in chars if char != ' ']\n",
    "chars"
   ]
  },
  {
   "cell_type": "code",
   "execution_count": 70,
   "id": "62c8aeae",
   "metadata": {},
   "outputs": [
    {
     "data": {
      "text/plain": [
       "24"
      ]
     },
     "execution_count": 70,
     "metadata": {},
     "output_type": "execute_result"
    }
   ],
   "source": [
    "len(chars)"
   ]
  },
  {
   "cell_type": "code",
   "execution_count": 71,
   "id": "6cab35aa",
   "metadata": {},
   "outputs": [
    {
     "data": {
      "text/plain": [
       "{' ': 1,\n",
       " 'A': 2,\n",
       " 'C': 3,\n",
       " 'D': 4,\n",
       " 'E': 5,\n",
       " 'F': 6,\n",
       " 'G': 7,\n",
       " 'H': 8,\n",
       " 'I': 9,\n",
       " 'J': 10,\n",
       " 'K': 11,\n",
       " 'L': 12,\n",
       " 'M': 13,\n",
       " 'N': 14,\n",
       " 'O': 15,\n",
       " 'P': 16,\n",
       " 'R': 17,\n",
       " 'S': 18,\n",
       " 'T': 19,\n",
       " 'U': 20,\n",
       " 'V': 21,\n",
       " 'W': 22,\n",
       " 'Y': 23,\n",
       " 'Z': 24}"
      ]
     },
     "execution_count": 71,
     "metadata": {},
     "output_type": "execute_result"
    }
   ],
   "source": [
    "stoi = {s:i+1 for i,s in enumerate(chars)}\n",
    "stoi"
   ]
  },
  {
   "cell_type": "code",
   "execution_count": 72,
   "id": "58f7967b",
   "metadata": {},
   "outputs": [
    {
     "name": "stdout",
     "output_type": "stream",
     "text": [
      "{1: ' ', 2: 'A', 3: 'C', 4: 'D', 5: 'E', 6: 'F', 7: 'G', 8: 'H', 9: 'I', 10: 'J', 11: 'K', 12: 'L', 13: 'M', 14: 'N', 15: 'O', 16: 'P', 17: 'R', 18: 'S', 19: 'T', 20: 'U', 21: 'V', 22: 'W', 23: 'Y', 24: 'Z', 0: '.'}\n"
     ]
    }
   ],
   "source": [
    "stoi['.'] = 0\n",
    "itos = {i:s for s,i in stoi.items()}\n",
    "print(itos)"
   ]
  },
  {
   "cell_type": "code",
   "execution_count": 73,
   "id": "c99a2ed2",
   "metadata": {},
   "outputs": [
    {
     "name": "stdout",
     "output_type": "stream",
     "text": [
      "... ---> S\n",
      "..S ---> U\n",
      ".SU ---> S\n",
      "SUS ---> H\n",
      "USH ---> I\n",
      "SHI ---> L\n",
      "HIL ---> .\n",
      "... ---> S\n",
      "..S ---> R\n",
      ".SR ---> I\n",
      "SRI ---> K\n",
      "RIK ---> R\n",
      "IKR ---> I\n",
      "KRI ---> S\n",
      "RIS ---> H\n",
      "ISH ---> N\n",
      "SHN ---> A\n",
      "HNA ---> .\n",
      "... ---> S\n",
      "..S ---> A\n",
      ".SA ---> N\n",
      "SAN ---> T\n",
      "ANT ---> O\n",
      "NTO ---> S\n",
      "TOS ---> H\n",
      "OSH ---> .\n",
      "... ---> V\n",
      "..V ---> I\n",
      ".VI ---> G\n",
      "VIG ---> N\n",
      "IGN ---> E\n",
      "GNE ---> S\n",
      "NES ---> H\n",
      "ESH ---> .\n",
      "... ---> R\n",
      "..R ---> A\n",
      ".RA ---> M\n",
      "RAM ---> Y\n",
      "AMY ---> A\n",
      "MYA ---> .\n",
      "... ---> C\n",
      "..C ---> H\n",
      ".CH ---> A\n",
      "CHA ---> R\n",
      "HAR ---> A\n",
      "ARA ---> N\n",
      "RAN ---> .\n",
      "... ---> V\n",
      "..V ---> I\n",
      ".VI ---> N\n",
      "VIN ---> N\n",
      "INN ---> Y\n",
      "NNY ---> .\n",
      "... ---> U\n",
      "..U ---> S\n",
      ".US ---> H\n",
      "USH ---> A\n",
      "SHA ---> .\n",
      "... ---> S\n",
      "..S ---> U\n",
      ".SU ---> R\n",
      "SUR ---> Y\n",
      "URY ---> A\n",
      "RYA --->  \n",
      "YA  ---> .\n",
      "... ---> M\n",
      "..M ---> E\n",
      ".ME ---> G\n",
      "MEG ---> H\n",
      "EGH ---> A\n",
      "GHA ---> N\n",
      "HAN ---> A\n",
      "ANA ---> .\n",
      "... ---> J\n",
      "..J ---> A\n",
      ".JA ---> H\n",
      "JAH ---> N\n",
      "AHN ---> A\n",
      "HNA ---> V\n",
      "NAV ---> I\n",
      "AVI ---> .\n",
      "... ---> N\n",
      "..N ---> I\n",
      ".NI ---> T\n",
      "NIT ---> H\n",
      "ITH ---> Y\n",
      "THY ---> A\n",
      "HYA ---> S\n",
      "YAS ---> H\n",
      "ASH ---> R\n",
      "SHR ---> E\n",
      "HRE ---> E\n",
      "REE ---> .\n",
      "... ---> K\n",
      "..K ---> A\n",
      ".KA ---> U\n",
      "KAU ---> S\n",
      "AUS ---> H\n",
      "USH ---> I\n",
      "SHI ---> K\n",
      "HIK ---> .\n",
      "... ---> M\n",
      "..M ---> A\n",
      ".MA ---> H\n",
      "MAH ---> E\n",
      "AHE ---> S\n",
      "HES ---> H\n",
      "ESH ---> W\n",
      "SHW ---> A\n",
      "HWA ---> R\n",
      "WAR ---> .\n",
      "... ---> P\n",
      "..P ---> R\n",
      ".PR ---> E\n",
      "PRE ---> E\n",
      "REE ---> T\n",
      "EET ---> H\n",
      "ETH ---> I\n",
      "THI ---> .\n",
      "... ---> S\n",
      "..S ---> H\n",
      ".SH ---> A\n",
      "SHA ---> S\n",
      "HAS ---> H\n",
      "ASH ---> I\n",
      "SHI ---> K\n",
      "HIK ---> A\n",
      "IKA ---> N\n",
      "KAN ---> T\n",
      "ANT ---> H\n",
      "NTH ---> .\n",
      "... ---> R\n",
      "..R ---> E\n",
      ".RE ---> E\n",
      "REE ---> T\n",
      "EET ---> E\n",
      "ETE ---> K\n",
      "TEK ---> A\n",
      "EKA ---> .\n",
      "... ---> J\n",
      "..J ---> A\n",
      ".JA ---> H\n",
      "JAH ---> N\n",
      "AHN ---> A\n",
      "HNA ---> V\n",
      "NAV ---> I\n",
      "AVI ---> .\n",
      "... ---> S\n",
      "..S ---> U\n",
      ".SU ---> D\n",
      "SUD ---> H\n",
      "UDH ---> E\n",
      "DHE ---> E\n",
      "HEE ---> R\n",
      "EER ---> .\n",
      "... ---> J\n",
      "..J ---> A\n",
      ".JA ---> Y\n",
      "JAY ---> A\n",
      "AYA ---> N\n",
      "YAN ---> T\n",
      "ANT ---> H\n",
      "NTH ---> .\n",
      "... ---> S\n",
      "..S ---> A\n",
      ".SA ---> I\n",
      "SAI ---> M\n",
      "AIM ---> O\n",
      "IMO ---> U\n",
      "MOU ---> L\n",
      "OUL ---> I\n",
      "ULI ---> .\n",
      "... ---> A\n",
      "..A ---> N\n",
      ".AN ---> U\n",
      "ANU ---> R\n",
      "NUR ---> A\n",
      "URA ---> G\n",
      "RAG ---> .\n",
      "... ---> R\n",
      "..R ---> E\n",
      ".RE ---> V\n",
      "REV ---> A\n",
      "EVA ---> T\n",
      "VAT ---> H\n",
      "ATH ---> I\n",
      "THI ---> .\n",
      "... ---> U\n",
      "..U ---> D\n",
      ".UD ---> A\n",
      "UDA ---> Y\n",
      "DAY ---> .\n",
      "... ---> H\n",
      "..H ---> A\n",
      ".HA ---> R\n",
      "HAR ---> S\n",
      "ARS ---> H\n",
      "RSH ---> I\n",
      "SHI ---> T\n",
      "HIT ---> H\n",
      "ITH ---> A\n",
      "THA ---> .\n",
      "... ---> S\n",
      "..S ---> R\n",
      ".SR ---> U\n",
      "SRU ---> T\n",
      "RUT ---> H\n",
      "UTH ---> I\n",
      "THI --->  \n",
      "HI  ---> .\n",
      "... ---> M\n",
      "..M ---> A\n",
      ".MA ---> N\n",
      "MAN ---> I\n",
      "ANI ---> K\n",
      "NIK ---> .\n",
      "... ---> A\n",
      "..A ---> M\n",
      ".AM ---> R\n",
      "AMR ---> I\n",
      "MRI ---> T\n",
      "RIT ---> .\n",
      "... ---> S\n",
      "..S ---> A\n",
      ".SA ---> M\n",
      "SAM ---> A\n",
      "AMA ---> D\n",
      "MAD ---> .\n",
      "... ---> F\n",
      "..F ---> A\n",
      ".FA ---> H\n",
      "FAH ---> D\n",
      "AHD --->  \n",
      "HD  ---> .\n",
      "... ---> V\n",
      "..V ---> I\n",
      ".VI ---> S\n",
      "VIS ---> H\n",
      "ISH ---> N\n",
      "SHN ---> U\n",
      "HNU ---> P\n",
      "NUP ---> R\n",
      "UPR ---> I\n",
      "PRI ---> Y\n",
      "RIY ---> A\n",
      "IYA ---> .\n",
      "... ---> S\n",
      "..S ---> U\n",
      ".SU ---> S\n",
      "SUS ---> H\n",
      "USH ---> A\n",
      "SHA ---> N\n",
      "HAN ---> K\n",
      "ANK ---> .\n",
      "... ---> V\n",
      "..V ---> A\n",
      ".VA ---> R\n",
      "VAR ---> S\n",
      "ARS ---> H\n",
      "RSH ---> I\n",
      "SHI ---> N\n",
      "HIN ---> I\n",
      "INI ---> .\n",
      "... ---> K\n",
      "..K ---> A\n",
      ".KA ---> R\n",
      "KAR ---> T\n",
      "ART ---> H\n",
      "RTH ---> I\n",
      "THI ---> K\n",
      "HIK ---> E\n",
      "IKE ---> Y\n",
      "KEY ---> A\n",
      "EYA ---> .\n",
      "... ---> L\n",
      "..L ---> E\n",
      ".LE ---> K\n",
      "LEK ---> H\n",
      "EKH ---> Y\n",
      "KHY ---> A\n",
      "HYA ---> .\n",
      "... ---> S\n",
      "..S ---> I\n",
      ".SI ---> D\n",
      "SID ---> H\n",
      "IDH ---> A\n",
      "DHA ---> N\n",
      "HAN ---> T\n",
      "ANT ---> H\n",
      "NTH ---> .\n",
      "... ---> V\n",
      "..V ---> A\n",
      ".VA ---> R\n",
      "VAR ---> D\n",
      "ARD ---> H\n",
      "RDH ---> A\n",
      "DHA ---> N\n",
      "HAN ---> .\n",
      "... ---> V\n",
      "..V ---> A\n",
      ".VA ---> M\n",
      "VAM ---> S\n",
      "AMS ---> I\n",
      "MSI ---> .\n",
      "... ---> E\n",
      "..E ---> S\n",
      ".ES ---> H\n",
      "ESH ---> W\n",
      "SHW ---> A\n",
      "HWA ---> R\n",
      "WAR ---> .\n",
      "... ---> R\n",
      "..R ---> I\n",
      ".RI ---> S\n",
      "RIS ---> H\n",
      "ISH ---> I\n",
      "SHI ---> T\n",
      "HIT ---> H\n",
      "ITH ---> A\n",
      "THA ---> .\n",
      "... ---> O\n",
      "..O ---> U\n",
      ".OU ---> C\n",
      "OUC ---> H\n",
      "UCH ---> I\n",
      "CHI ---> T\n",
      "HIT ---> H\n",
      "ITH ---> Y\n",
      "THY ---> A\n",
      "HYA ---> .\n",
      "... ---> S\n",
      "..S ---> A\n",
      ".SA ---> T\n",
      "SAT ---> H\n",
      "ATH ---> V\n",
      "THV ---> I\n",
      "HVI ---> K\n",
      "VIK ---> .\n",
      "... ---> P\n",
      "..P ---> R\n",
      ".PR ---> A\n",
      "PRA ---> S\n",
      "RAS ---> H\n",
      "ASH ---> A\n",
      "SHA ---> N\n",
      "HAN ---> T\n",
      "ANT ---> I\n",
      "NTI ---> .\n",
      "... ---> R\n",
      "..R ---> A\n",
      ".RA ---> K\n",
      "RAK ---> E\n",
      "AKE ---> S\n",
      "KES ---> H\n",
      "ESH --->  \n",
      "SH  ---> .\n",
      "... ---> K\n",
      "..K ---> A\n",
      ".KA ---> R\n",
      "KAR ---> T\n",
      "ART ---> H\n",
      "RTH ---> I\n",
      "THI ---> K\n",
      "HIK ---> E\n",
      "IKE ---> Y\n",
      "KEY ---> A\n",
      "EYA ---> .\n",
      "... ---> S\n",
      "..S ---> A\n",
      ".SA ---> L\n",
      "SAL ---> M\n",
      "ALM ---> A\n",
      "LMA ---> N\n",
      "MAN ---> .\n",
      "... ---> N\n",
      "..N ---> I\n",
      ".NI ---> T\n",
      "NIT ---> E\n",
      "ITE ---> S\n",
      "TES ---> H\n",
      "ESH ---> .\n",
      "... ---> D\n",
      "..D ---> H\n",
      ".DH ---> E\n",
      "DHE ---> E\n",
      "HEE ---> R\n",
      "EER ---> A\n",
      "ERA ---> J\n",
      "RAJ ---> .\n",
      "... ---> A\n",
      "..A ---> A\n",
      ".AA ---> D\n",
      "AAD ---> A\n",
      "ADA ---> R\n",
      "DAR ---> S\n",
      "ARS ---> H\n",
      "RSH ---> .\n",
      "... ---> S\n",
      "..S ---> N\n",
      ".SN ---> I\n",
      "SNI ---> G\n",
      "NIG ---> D\n",
      "IGD ---> H\n",
      "GDH ---> A\n",
      "DHA ---> .\n",
      "... ---> S\n",
      "..S ---> A\n",
      ".SA ---> H\n",
      "SAH ---> I\n",
      "AHI ---> T\n",
      "HIT ---> H\n",
      "ITH ---> I\n",
      "THI ---> .\n",
      "... ---> S\n",
      "..S ---> A\n",
      ".SA ---> N\n",
      "SAN ---> T\n",
      "ANT ---> O\n",
      "NTO ---> S\n",
      "TOS ---> H\n",
      "OSH ---> I\n",
      "SHI ---> .\n",
      "... ---> K\n",
      "..K ---> R\n",
      ".KR ---> I\n",
      "KRI ---> S\n",
      "RIS ---> H\n",
      "ISH ---> N\n",
      "SHN ---> A\n",
      "HNA --->  \n",
      "NA  ---> .\n",
      "... ---> R\n",
      "..R ---> A\n",
      ".RA ---> H\n",
      "RAH ---> U\n",
      "AHU ---> L\n",
      "HUL ---> .\n",
      "... ---> Z\n",
      "..Z ---> O\n",
      ".ZO ---> Y\n",
      "ZOY ---> A\n",
      "OYA ---> .\n"
     ]
    }
   ],
   "source": [
    "block_size = 3 \n",
    "X,Y = [],[]\n",
    "for w in words :\n",
    "#     print(w)\n",
    "    context = [0] * block_size \n",
    "#     print(context)\n",
    "    for ch in w + '.':\n",
    "        ix = stoi[ch]\n",
    "        X.append(context)\n",
    "        \n",
    "        print(''.join(itos[i] for i in context), '--->', itos[ix])\n",
    "        Y.append(ix)\n",
    "        context = context[1:] + [ix]\n",
    "        \n",
    "    "
   ]
  },
  {
   "cell_type": "code",
   "execution_count": 74,
   "id": "3dca93b3",
   "metadata": {},
   "outputs": [],
   "source": [
    "X = torch.tensor(X)\n",
    "Y = torch.tensor(Y)\n",
    "\n"
   ]
  },
  {
   "cell_type": "code",
   "execution_count": 75,
   "id": "daec6e29",
   "metadata": {},
   "outputs": [
    {
     "data": {
      "text/plain": [
       "(torch.int64, torch.Size([442, 3]), torch.int64, torch.Size([442]))"
      ]
     },
     "execution_count": 75,
     "metadata": {},
     "output_type": "execute_result"
    }
   ],
   "source": [
    "X.dtype , X.shape , Y.dtype, Y.shape"
   ]
  },
  {
   "cell_type": "code",
   "execution_count": 76,
   "id": "ec3c23ee",
   "metadata": {},
   "outputs": [],
   "source": [
    "W1 = torch"
   ]
  },
  {
   "cell_type": "code",
   "execution_count": 77,
   "id": "1eebf317",
   "metadata": {},
   "outputs": [
    {
     "name": "stderr",
     "output_type": "stream",
     "text": [
      "/tmp/ipykernel_11674/3081328166.py:1: UserWarning: To copy construct from a tensor, it is recommended to use sourceTensor.clone().detach() or sourceTensor.clone().detach().requires_grad_(True), rather than torch.tensor(sourceTensor).\n",
      "  X = torch.tensor(X, dtype=torch.long)\n"
     ]
    }
   ],
   "source": [
    "X = torch.tensor(X, dtype=torch.long)"
   ]
  },
  {
   "cell_type": "code",
   "execution_count": 78,
   "id": "ffb49fa3",
   "metadata": {
    "scrolled": true
   },
   "outputs": [
    {
     "data": {
      "text/plain": [
       "tensor([[-1.1641, -0.5828],\n",
       "        [-0.9082, -0.6994],\n",
       "        [-0.9441, -1.2614],\n",
       "        [-0.0873,  0.2022],\n",
       "        [ 1.6010,  0.0326],\n",
       "        [ 0.3696, -0.6310],\n",
       "        [-0.0757, -0.5886],\n",
       "        [ 0.1676,  0.3631],\n",
       "        [ 1.3738,  0.3118],\n",
       "        [ 1.3499,  1.3921],\n",
       "        [-0.1024, -0.1119],\n",
       "        [ 0.5364, -1.0807],\n",
       "        [-1.4025,  0.5786],\n",
       "        [ 1.5578,  0.5050],\n",
       "        [ 0.7797, -0.5947],\n",
       "        [-1.2363, -1.2395],\n",
       "        [ 0.2061,  0.0233],\n",
       "        [-1.3436, -1.1453],\n",
       "        [ 0.4372, -0.2182],\n",
       "        [-0.4049,  0.5465],\n",
       "        [ 0.3035, -0.7777],\n",
       "        [-0.2695,  0.1013],\n",
       "        [ 0.3145,  0.9509],\n",
       "        [ 0.3699, -2.5497],\n",
       "        [-0.1759,  0.7542]])"
      ]
     },
     "execution_count": 78,
     "metadata": {},
     "output_type": "execute_result"
    }
   ],
   "source": [
    "C = torch.randn((25,2))\n",
    "C\n",
    "\n"
   ]
  },
  {
   "cell_type": "code",
   "execution_count": 79,
   "id": "3fa55a50",
   "metadata": {},
   "outputs": [],
   "source": [
    "X_clamped = torch.clamp(X, 0, C.size(0) - 1)"
   ]
  },
  {
   "cell_type": "code",
   "execution_count": 80,
   "id": "3d3f4211",
   "metadata": {},
   "outputs": [],
   "source": [
    "emb = C[X_clamped]"
   ]
  },
  {
   "cell_type": "code",
   "execution_count": 81,
   "id": "36a2da52",
   "metadata": {},
   "outputs": [
    {
     "data": {
      "text/plain": [
       "torch.Size([442, 3, 2])"
      ]
     },
     "execution_count": 81,
     "metadata": {},
     "output_type": "execute_result"
    }
   ],
   "source": [
    "emb.shape"
   ]
  },
  {
   "cell_type": "code",
   "execution_count": 82,
   "id": "8749ab38",
   "metadata": {},
   "outputs": [],
   "source": [
    "W1 = torch.randn((6,100))\n",
    "b1 = torch.randn(100)"
   ]
  },
  {
   "cell_type": "code",
   "execution_count": 83,
   "id": "ba5edb1f",
   "metadata": {},
   "outputs": [
    {
     "data": {
      "text/plain": [
       "tensor([[-0.9997,  0.1516, -0.9033,  ..., -0.9911, -0.9998, -1.0000],\n",
       "        [-0.7809,  0.9717,  0.0027,  ..., -0.8109, -0.9991, -0.9999],\n",
       "        [-0.7296,  0.9505, -0.5123,  ..., -0.9420, -0.9337, -0.8816],\n",
       "        ...,\n",
       "        [-0.9999,  0.1085, -0.9985,  ..., -0.9771, -0.9870, -0.9699],\n",
       "        [-0.6802, -0.9217, -0.9963,  ...,  0.4880, -0.9999, -1.0000],\n",
       "        [-0.9950,  0.4682,  0.4964,  ..., -0.9998, -1.0000, -1.0000]])"
      ]
     },
     "execution_count": 83,
     "metadata": {},
     "output_type": "execute_result"
    }
   ],
   "source": [
    "h = torch.tanh(emb.view(-1,6) @ W1 + b1)\n",
    "h"
   ]
  },
  {
   "cell_type": "code",
   "execution_count": 84,
   "id": "b5c25b86",
   "metadata": {},
   "outputs": [
    {
     "data": {
      "text/plain": [
       "torch.Size([442, 100])"
      ]
     },
     "execution_count": 84,
     "metadata": {},
     "output_type": "execute_result"
    }
   ],
   "source": [
    "h.shape"
   ]
  },
  {
   "cell_type": "code",
   "execution_count": 85,
   "id": "fc45cba5",
   "metadata": {},
   "outputs": [],
   "source": [
    "W2 = torch.randn((100,25))\n",
    "b2 = torch.randn(25)"
   ]
  },
  {
   "cell_type": "code",
   "execution_count": 86,
   "id": "463434ef",
   "metadata": {},
   "outputs": [],
   "source": [
    "logits = h @ W2 + b2"
   ]
  },
  {
   "cell_type": "code",
   "execution_count": 87,
   "id": "ade04720",
   "metadata": {},
   "outputs": [
    {
     "data": {
      "text/plain": [
       "tensor([[ -8.4506,   0.2132,   1.6987,  ...,  -7.2957,   0.7031,   7.3932],\n",
       "        [-11.9146, -11.0139,   6.1548,  ...,   1.7371,  -3.9089,  18.6334],\n",
       "        [-13.0080,  -3.1812,   6.2986,  ...,   6.7058,   6.3734,  14.4214],\n",
       "        ...,\n",
       "        [-12.7974,   4.9627,   0.5583,  ...,  -7.4860,  -8.6930,   5.4951],\n",
       "        [-18.7515,   7.3650,   1.2386,  ...,  -7.9489,   4.9688,   0.8912],\n",
       "        [ -3.2917,   7.1035,   3.5220,  ...,  -4.3467,  16.8166,  16.0399]])"
      ]
     },
     "execution_count": 87,
     "metadata": {},
     "output_type": "execute_result"
    }
   ],
   "source": [
    "logits"
   ]
  },
  {
   "cell_type": "code",
   "execution_count": 88,
   "id": "21bed40d",
   "metadata": {},
   "outputs": [
    {
     "data": {
      "text/plain": [
       "torch.Size([442, 25])"
      ]
     },
     "execution_count": 88,
     "metadata": {},
     "output_type": "execute_result"
    }
   ],
   "source": [
    "logits.shape"
   ]
  },
  {
   "cell_type": "code",
   "execution_count": 89,
   "id": "3c1731ad",
   "metadata": {},
   "outputs": [
    {
     "data": {
      "text/plain": [
       "tensor([[2.1378e-04, 1.2376e+00, 5.4668e+00,  ..., 6.7844e-04, 2.0200e+00,\n",
       "         1.6250e+03],\n",
       "        [6.6918e-06, 1.6472e-05, 4.7099e+02,  ..., 5.6811e+00, 2.0063e-02,\n",
       "         1.2371e+08],\n",
       "        [2.2422e-06, 4.1536e-02, 5.4378e+02,  ..., 8.1710e+02, 5.8604e+02,\n",
       "         1.8329e+06],\n",
       "        ...,\n",
       "        [2.7681e-06, 1.4298e+02, 1.7477e+00,  ..., 5.6090e-04, 1.6776e-04,\n",
       "         2.4349e+02],\n",
       "        [7.1835e-09, 1.5798e+03, 3.4508e+00,  ..., 3.5306e-04, 1.4385e+02,\n",
       "         2.4382e+00],\n",
       "        [3.7190e-02, 1.2162e+03, 3.3851e+01,  ..., 1.2949e-02, 2.0107e+07,\n",
       "         9.2480e+06]])"
      ]
     },
     "execution_count": 89,
     "metadata": {},
     "output_type": "execute_result"
    }
   ],
   "source": [
    "counts = logits.exp()\n",
    "counts\n",
    "\n"
   ]
  },
  {
   "cell_type": "code",
   "execution_count": 90,
   "id": "beba4b94",
   "metadata": {},
   "outputs": [
    {
     "data": {
      "text/plain": [
       "torch.Size([442, 25])"
      ]
     },
     "execution_count": 90,
     "metadata": {},
     "output_type": "execute_result"
    }
   ],
   "source": [
    "counts.shape"
   ]
  },
  {
   "cell_type": "code",
   "execution_count": 91,
   "id": "5af17bec",
   "metadata": {},
   "outputs": [
    {
     "data": {
      "text/plain": [
       "tensor([[1.5748e-17, 9.1168e-14, 4.0272e-13,  ..., 4.9978e-17, 1.4880e-13,\n",
       "         1.1971e-10],\n",
       "        [4.9296e-19, 1.2134e-18, 3.4696e-11,  ..., 4.1851e-13, 1.4780e-15,\n",
       "         9.1132e-06],\n",
       "        [1.6518e-19, 3.0598e-15, 4.0059e-11,  ..., 6.0193e-11, 4.3171e-11,\n",
       "         1.3502e-07],\n",
       "        ...,\n",
       "        [2.0391e-19, 1.0533e-11, 1.2875e-13,  ..., 4.1320e-17, 1.2358e-17,\n",
       "         1.7937e-11],\n",
       "        [5.2918e-22, 1.1638e-10, 2.5421e-13,  ..., 2.6009e-17, 1.0597e-11,\n",
       "         1.7961e-13],\n",
       "        [2.7397e-15, 8.9595e-11, 2.4937e-12,  ..., 9.5392e-16, 1.4812e-06,\n",
       "         6.8126e-07]])"
      ]
     },
     "execution_count": 91,
     "metadata": {},
     "output_type": "execute_result"
    }
   ],
   "source": [
    "prob = counts/ counts.sum()\n",
    "prob"
   ]
  },
  {
   "cell_type": "code",
   "execution_count": 92,
   "id": "140a5c49",
   "metadata": {},
   "outputs": [
    {
     "data": {
      "text/plain": [
       "tensor([18, 20, 18,  8,  9, 12,  0, 18, 17,  9, 11, 17,  9, 18,  8, 14,  2,  0,\n",
       "        18,  2, 14, 19, 15, 18,  8,  0, 21,  9,  7, 14,  5, 18,  8,  0, 17,  2,\n",
       "        13, 23,  2,  0,  3,  8,  2, 17,  2, 14,  0, 21,  9, 14, 14, 23,  0, 20,\n",
       "        18,  8,  2,  0, 18, 20, 17, 23,  2,  1,  0, 13,  5,  7,  8,  2, 14,  2,\n",
       "         0, 10,  2,  8, 14,  2, 21,  9,  0, 14,  9, 19,  8, 23,  2, 18,  8, 17,\n",
       "         5,  5,  0, 11,  2, 20, 18,  8,  9, 11,  0, 13,  2,  8,  5, 18,  8, 22,\n",
       "         2, 17,  0, 16, 17,  5,  5, 19,  8,  9,  0, 18,  8,  2, 18,  8,  9, 11,\n",
       "         2, 14, 19,  8,  0, 17,  5,  5, 19,  5, 11,  2,  0, 10,  2,  8, 14,  2,\n",
       "        21,  9,  0, 18, 20,  4,  8,  5,  5, 17,  0, 10,  2, 23,  2, 14, 19,  8,\n",
       "         0, 18,  2,  9, 13, 15, 20, 12,  9,  0,  2, 14, 20, 17,  2,  7,  0, 17,\n",
       "         5, 21,  2, 19,  8,  9,  0, 20,  4,  2, 23,  0,  8,  2, 17, 18,  8,  9,\n",
       "        19,  8,  2,  0, 18, 17, 20, 19,  8,  9,  1,  0, 13,  2, 14,  9, 11,  0,\n",
       "         2, 13, 17,  9, 19,  0, 18,  2, 13,  2,  4,  0,  6,  2,  8,  4,  1,  0,\n",
       "        21,  9, 18,  8, 14, 20, 16, 17,  9, 23,  2,  0, 18, 20, 18,  8,  2, 14,\n",
       "        11,  0, 21,  2, 17, 18,  8,  9, 14,  9,  0, 11,  2, 17, 19,  8,  9, 11,\n",
       "         5, 23,  2,  0, 12,  5, 11,  8, 23,  2,  0, 18,  9,  4,  8,  2, 14, 19,\n",
       "         8,  0, 21,  2, 17,  4,  8,  2, 14,  0, 21,  2, 13, 18,  9,  0,  5, 18,\n",
       "         8, 22,  2, 17,  0, 17,  9, 18,  8,  9, 19,  8,  2,  0, 15, 20,  3,  8,\n",
       "         9, 19,  8, 23,  2,  0, 18,  2, 19,  8, 21,  9, 11,  0, 16, 17,  2, 18,\n",
       "         8,  2, 14, 19,  9,  0, 17,  2, 11,  5, 18,  8,  1,  0, 11,  2, 17, 19,\n",
       "         8,  9, 11,  5, 23,  2,  0, 18,  2, 12, 13,  2, 14,  0, 14,  9, 19,  5,\n",
       "        18,  8,  0,  4,  8,  5,  5, 17,  2, 10,  0,  2,  2,  4,  2, 17, 18,  8,\n",
       "         0, 18, 14,  9,  7,  4,  8,  2,  0, 18,  2,  8,  9, 19,  8,  9,  0, 18,\n",
       "         2, 14, 19, 15, 18,  8,  9,  0, 11, 17,  9, 18,  8, 14,  2,  1,  0, 17,\n",
       "         2,  8, 20, 12,  0, 24, 15, 23,  2,  0])"
      ]
     },
     "execution_count": 92,
     "metadata": {},
     "output_type": "execute_result"
    }
   ],
   "source": [
    "Y"
   ]
  },
  {
   "cell_type": "code",
   "execution_count": 93,
   "id": "2432a0b9",
   "metadata": {},
   "outputs": [
    {
     "data": {
      "text/plain": [
       "442"
      ]
     },
     "execution_count": 93,
     "metadata": {},
     "output_type": "execute_result"
    }
   ],
   "source": [
    "len(Y)"
   ]
  },
  {
   "cell_type": "code",
   "execution_count": 94,
   "id": "e42e13ea",
   "metadata": {},
   "outputs": [
    {
     "ename": "IndexError",
     "evalue": "shape mismatch: indexing tensors could not be broadcast together with shapes [46], [442]",
     "output_type": "error",
     "traceback": [
      "\u001b[0;31m---------------------------------------------------------------------------\u001b[0m",
      "\u001b[0;31mIndexError\u001b[0m                                Traceback (most recent call last)",
      "Cell \u001b[0;32mIn[94], line 1\u001b[0m\n\u001b[0;32m----> 1\u001b[0m loss \u001b[38;5;241m=\u001b[39m \u001b[38;5;241m-\u001b[39mprob[torch\u001b[38;5;241m.\u001b[39marange(\u001b[38;5;241m46\u001b[39m), Y]\u001b[38;5;241m.\u001b[39mlog()\u001b[38;5;241m.\u001b[39mmean()\n",
      "\u001b[0;31mIndexError\u001b[0m: shape mismatch: indexing tensors could not be broadcast together with shapes [46], [442]"
     ]
    }
   ],
   "source": [
    "loss = -prob[torch.arange(46), Y].log().mean()"
   ]
  },
  {
   "cell_type": "code",
   "execution_count": 95,
   "id": "ad69f485",
   "metadata": {},
   "outputs": [
    {
     "data": {
      "text/plain": [
       "tensor(0.6002, grad_fn=<NllLossBackward0>)"
      ]
     },
     "execution_count": 95,
     "metadata": {},
     "output_type": "execute_result"
    }
   ],
   "source": [
    "loss"
   ]
  },
  {
   "cell_type": "code",
   "execution_count": 96,
   "id": "5dff6b7c",
   "metadata": {
    "scrolled": true
   },
   "outputs": [
    {
     "data": {
      "text/plain": [
       "3275"
      ]
     },
     "execution_count": 96,
     "metadata": {},
     "output_type": "execute_result"
    }
   ],
   "source": [
    "parameters = [C, W1,W2,b1,b2]\n",
    "\n",
    "sum(p.nelement() for p in parameters)"
   ]
  },
  {
   "cell_type": "code",
   "execution_count": 97,
   "id": "4661a445",
   "metadata": {
    "scrolled": false
   },
   "outputs": [
    {
     "data": {
      "text/plain": [
       "tensor(16.9543)"
      ]
     },
     "execution_count": 97,
     "metadata": {},
     "output_type": "execute_result"
    }
   ],
   "source": [
    "F.cross_entropy(logits, Y)"
   ]
  },
  {
   "cell_type": "code",
   "execution_count": 101,
   "id": "dddacaa3",
   "metadata": {},
   "outputs": [],
   "source": [
    "for p in parameters:\n",
    "    p.requires_grad = True"
   ]
  },
  {
   "cell_type": "code",
   "execution_count": 100,
   "id": "b5fea014",
   "metadata": {},
   "outputs": [],
   "source": [
    "g = torch.Generator().manual_seed(2147483647) # for reproducibility\n",
    "C = torch.randn((25, 2), generator=g)\n",
    "W1 = torch.randn((6, 100), generator=g)\n",
    "b1 = torch.randn(100, generator=g)\n",
    "W2 = torch.randn((100, 25), generator=g)\n",
    "b2 = torch.randn(25, generator=g)\n",
    "parameters = [C, W1, b1, W2, b2]"
   ]
  },
  {
   "cell_type": "code",
   "execution_count": 102,
   "id": "b3a7fed2",
   "metadata": {},
   "outputs": [
    {
     "data": {
      "text/plain": [
       "torch.Size([442, 3])"
      ]
     },
     "execution_count": 102,
     "metadata": {},
     "output_type": "execute_result"
    }
   ],
   "source": [
    "X.shape"
   ]
  },
  {
   "cell_type": "code",
   "execution_count": 103,
   "id": "f6a53680",
   "metadata": {},
   "outputs": [
    {
     "data": {
      "text/plain": [
       "torch.Size([25, 2])"
      ]
     },
     "execution_count": 103,
     "metadata": {},
     "output_type": "execute_result"
    }
   ],
   "source": [
    "C.shape"
   ]
  },
  {
   "cell_type": "code",
   "execution_count": 104,
   "id": "8ce9a39a",
   "metadata": {},
   "outputs": [
    {
     "name": "stderr",
     "output_type": "stream",
     "text": [
      "/tmp/ipykernel_11674/1924134891.py:1: UserWarning: To copy construct from a tensor, it is recommended to use sourceTensor.clone().detach() or sourceTensor.clone().detach().requires_grad_(True), rather than torch.tensor(sourceTensor).\n",
      "  Y_clamped = torch.clamp(torch.tensor(Y, dtype=torch.long), 0, C.size(0) - 1)\n"
     ]
    }
   ],
   "source": [
    "Y_clamped = torch.clamp(torch.tensor(Y, dtype=torch.long), 0, C.size(0) - 1)"
   ]
  },
  {
   "cell_type": "code",
   "execution_count": 105,
   "id": "c3dcfbfa",
   "metadata": {},
   "outputs": [
    {
     "name": "stdout",
     "output_type": "stream",
     "text": [
      "loss : 0.6657325625419617\n"
     ]
    }
   ],
   "source": [
    "for _ in range(100000):\n",
    "    #forward pass \n",
    "    emb = C[X_clamped]\n",
    "    h = torch.tanh(emb.view(-1,6) @ W1 + b1)\n",
    "    logits = h @ W2 + b2\n",
    "    loss = F.cross_entropy(logits , Y_clamped)\n",
    "#     print(f\"loss : {loss.item()}\")\n",
    "    \n",
    "    #backward pass \n",
    "    for p in parameters :\n",
    "        p.grad = None \n",
    "    loss.backward()\n",
    "    \n",
    "    #update \n",
    "    for p in parameters:\n",
    "        p.data += -0.1* p.grad\n",
    "print(f\"loss : {loss.item()}\")\n",
    "\n",
    "    "
   ]
  },
  {
   "cell_type": "code",
   "execution_count": 106,
   "id": "77e8b07e",
   "metadata": {},
   "outputs": [
    {
     "name": "stdout",
     "output_type": "stream",
     "text": [
      "MAHESHWAR.\n",
      "REETHI.\n",
      "DHEERAJ.\n",
      "ESH .\n",
      "JAYANTOSH.\n",
      "REETEKA.\n",
      "HARAN.\n",
      "RISHNA.\n",
      "ESHWAR.\n",
      "REETEKA.\n",
      "KRISHITHA.\n",
      "SHASHREETHI .\n",
      "JAHNAVI.\n",
      "JAHNAVI.\n",
      "PRASHVA.\n",
      "KARTHI.\n",
      "JAHNA.\n",
      "RISHNA .\n",
      "RAHUL.\n",
      "REETEKA.\n"
     ]
    }
   ],
   "source": [
    "# sample from the model\n",
    "g = torch.Generator().manual_seed(2147483647 + 10)\n",
    "\n",
    "for _ in range(20):\n",
    "    \n",
    "    out = []\n",
    "    context = [0] * block_size # initialize with all ...\n",
    "    while True:\n",
    "      emb = C[torch.tensor([context])] # (1,block_size,d)\n",
    "      h = torch.tanh(emb.view(1, -1) @ W1 + b1)\n",
    "      logits = h @ W2 + b2\n",
    "      probs = F.softmax(logits, dim=1)\n",
    "      ix = torch.multinomial(probs, num_samples=1, generator=g).item()\n",
    "      context = context[1:] + [ix]\n",
    "      out.append(ix)\n",
    "      if ix == 0:\n",
    "        break\n",
    "    \n",
    "    print(''.join(itos[i] for i in out))"
   ]
  },
  {
   "cell_type": "code",
   "execution_count": null,
   "id": "415a2c45",
   "metadata": {},
   "outputs": [],
   "source": []
  }
 ],
 "metadata": {
  "kernelspec": {
   "display_name": "Python 3 (ipykernel)",
   "language": "python",
   "name": "python3"
  },
  "language_info": {
   "codemirror_mode": {
    "name": "ipython",
    "version": 3
   },
   "file_extension": ".py",
   "mimetype": "text/x-python",
   "name": "python",
   "nbconvert_exporter": "python",
   "pygments_lexer": "ipython3",
   "version": "3.11.5"
  }
 },
 "nbformat": 4,
 "nbformat_minor": 5
}
